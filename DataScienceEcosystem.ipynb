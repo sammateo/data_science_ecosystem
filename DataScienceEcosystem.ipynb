{
 "cells": [
  {
   "cell_type": "markdown",
   "id": "28cc385f-0ebc-4c99-82d2-4c94269b84e2",
   "metadata": {},
   "source": [
    "# Data Science Tools and Ecosystem"
   ]
  },
  {
   "cell_type": "markdown",
   "id": "22a35159-6843-4f92-86a3-e7c56932423a",
   "metadata": {},
   "source": [
    "In this notebook, Data Science Tools and Ecosystem are summarized."
   ]
  },
  {
   "cell_type": "markdown",
   "id": "be94da0a-a27e-4068-b91a-23d69d1c8547",
   "metadata": {},
   "source": [
    "**Objectives**\n",
    "- list data science languages\n",
    "- list data science libraries\n",
    "- table of Data Science tools"
   ]
  },
  {
   "cell_type": "markdown",
   "id": "9cf3483e-faca-42f5-8a62-25d232c60d15",
   "metadata": {},
   "source": [
    "Some of the popular languages that Data Scientists use are:\n",
    "1. Python\n",
    "2. R\n",
    "3. SQL"
   ]
  },
  {
   "cell_type": "markdown",
   "id": "27de86eb-e153-4ded-9e86-1e593e1b4bb5",
   "metadata": {},
   "source": [
    "Some of the commonly used libraries used by Data Scientists include:\n",
    "\n",
    "1. NumPy\n",
    "2. Pandas\n",
    "3. Matplotlib"
   ]
  },
  {
   "cell_type": "markdown",
   "id": "6972f55f-e910-4af8-bdcb-bd9f5a048fe6",
   "metadata": {},
   "source": [
    "|Data Science Tools | \n",
    "|-------------------|\n",
    "|RStudio|\n",
    "|Apache Spark|\n",
    "|Apache Hadoop|"
   ]
  },
  {
   "cell_type": "markdown",
   "id": "e90d3ad6-4e65-4545-b1fe-733b6280bf7b",
   "metadata": {},
   "source": [
    "### Below are a few examples of evaluating arithmetic expressions in Python\n",
    "\n",
    "- 2+4\n",
    "- 5*6\n",
    "- 8-7"
   ]
  },
  {
   "cell_type": "code",
   "execution_count": 1,
   "id": "9c09be58-08ea-4766-b117-e6581d9b14a4",
   "metadata": {
    "tags": []
   },
   "outputs": [
    {
     "data": {
      "text/plain": [
       "17"
      ]
     },
     "execution_count": 1,
     "metadata": {},
     "output_type": "execute_result"
    }
   ],
   "source": [
    "#This a simple arithmetic expression to mutiply then add integers\n",
    "(3*4)+5"
   ]
  },
  {
   "cell_type": "code",
   "execution_count": 2,
   "id": "571b07a8-299c-49e1-b2c0-c484324bc8c6",
   "metadata": {
    "tags": []
   },
   "outputs": [
    {
     "data": {
      "text/plain": [
       "3.3333333333333335"
      ]
     },
     "execution_count": 2,
     "metadata": {},
     "output_type": "execute_result"
    }
   ],
   "source": [
    "#This will convert 200 minutes to hours by diving by 60\n",
    "\n",
    "200/60"
   ]
  },
  {
   "cell_type": "markdown",
   "id": "600892d7-ce46-4a46-b537-812854d6081a",
   "metadata": {},
   "source": [
    "## Author\n",
    "Mateo"
   ]
  },
  {
   "cell_type": "code",
   "execution_count": null,
   "id": "35a1a120-601c-4c2b-881b-b103408b1d99",
   "metadata": {},
   "outputs": [],
   "source": []
  }
 ],
 "metadata": {
  "kernelspec": {
   "display_name": "Python",
   "language": "python",
   "name": "conda-env-python-py"
  },
  "language_info": {
   "codemirror_mode": {
    "name": "ipython",
    "version": 3
   },
   "file_extension": ".py",
   "mimetype": "text/x-python",
   "name": "python",
   "nbconvert_exporter": "python",
   "pygments_lexer": "ipython3",
   "version": "3.7.12"
  }
 },
 "nbformat": 4,
 "nbformat_minor": 5
}
